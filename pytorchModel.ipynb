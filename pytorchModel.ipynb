{
 "cells": [
  {
   "cell_type": "code",
   "execution_count": 1,
   "id": "ab2411a1",
   "metadata": {},
   "outputs": [],
   "source": [
    "import pandas as pd\n",
    "import numpy as np\n",
    "import matplotlib.pyplot as plt\n",
    "\n",
    "import torch\n",
    "import torch.nn as nn\n",
    "import torch.utils.data as udata\n",
    "import torch.optim as optim"
   ]
  },
  {
   "cell_type": "code",
   "execution_count": 2,
   "id": "8bd22a83",
   "metadata": {},
   "outputs": [],
   "source": [
    "epochs        = 100\n",
    "n_layers      = 2\n",
    "n_nodes       = 100\n",
    "n_outputs     = 2\n",
    "drop_out_p    = 0.0\n",
    "learning_rate = 0.5\n",
    "batch_size    = 100\n",
    "verbose       = False"
   ]
  },
  {
   "cell_type": "code",
   "execution_count": 3,
   "id": "cc43ea73",
   "metadata": {},
   "outputs": [
    {
     "name": "stdout",
     "output_type": "stream",
     "text": [
      "Total training events =  2171 2171\n",
      "Index(['pmax3', 'pmax4', 'pmax5', 'pmax6', 'pmax7', 'pmax8', 'pmax9', 'pmax11',\n",
      "       'pmax14', 'negpmax3', 'negpmax4', 'negpmax5', 'negpmax6', 'negpmax7',\n",
      "       'negpmax8', 'negpmax9', 'negpmax11', 'negpmax14'],\n",
      "      dtype='object') 18\n",
      "Index(['x_tracker', 'y_tracker'], dtype='object') 2\n"
     ]
    },
    {
     "name": "stderr",
     "output_type": "stream",
     "text": [
      "/tmp/ipykernel_1606/3919697976.py:27: SettingWithCopyWarning: \n",
      "A value is trying to be set on a copy of a slice from a DataFrame.\n",
      "Try using .loc[row_indexer,col_indexer] = value instead\n",
      "\n",
      "See the caveats in the documentation: https://pandas.pydata.org/pandas-docs/stable/user_guide/indexing.html#returning-a-view-versus-a-copy\n",
      "  train['x_tracker'] += 5.0\n",
      "/tmp/ipykernel_1606/3919697976.py:28: SettingWithCopyWarning: \n",
      "A value is trying to be set on a copy of a slice from a DataFrame.\n",
      "Try using .loc[row_indexer,col_indexer] = value instead\n",
      "\n",
      "See the caveats in the documentation: https://pandas.pydata.org/pandas-docs/stable/user_guide/indexing.html#returning-a-view-versus-a-copy\n",
      "  test ['x_tracker'] += 5.0\n",
      "/tmp/ipykernel_1606/3919697976.py:29: SettingWithCopyWarning: \n",
      "A value is trying to be set on a copy of a slice from a DataFrame.\n",
      "Try using .loc[row_indexer,col_indexer] = value instead\n",
      "\n",
      "See the caveats in the documentation: https://pandas.pydata.org/pandas-docs/stable/user_guide/indexing.html#returning-a-view-versus-a-copy\n",
      "  train['y_tracker'] += 1.0\n",
      "/tmp/ipykernel_1606/3919697976.py:30: SettingWithCopyWarning: \n",
      "A value is trying to be set on a copy of a slice from a DataFrame.\n",
      "Try using .loc[row_indexer,col_indexer] = value instead\n",
      "\n",
      "See the caveats in the documentation: https://pandas.pydata.org/pandas-docs/stable/user_guide/indexing.html#returning-a-view-versus-a-copy\n",
      "  test ['y_tracker'] += 1.0\n"
     ]
    }
   ],
   "source": [
    "path = './'\n",
    "df_train = pd.read_csv('csv_TB3_Run21_croci450um_W3_285V_150kWfm.csv', sep=',')\n",
    "#df_train = pd.read_csv('csv_croci450-RSD2_Run111_285V_49.3pc_W3.csv', sep=',')\n",
    "#df_test = pd.read_csv('csv_TB3_Run20_croci450um_W3_285V_40kWfm.csv', sep=',')\n",
    "df_test = pd.read_csv('csv_TB3_Run21_croci450um_W3_285V_150kWfm.csv', sep=',')\n",
    "\n",
    "df_train = df_train.dropna(axis=1)\n",
    "df_test = df_test.dropna(axis=1)\n",
    "df_train = df_train.dropna(axis=0)\n",
    "df_test = df_test.dropna(axis=0)\n",
    "\n",
    "Train = df_train\n",
    "Test = df_test\n",
    "\n",
    "x_low = -5.475\n",
    "x_up = -4.575\n",
    "y_low = -1.232\n",
    "y_up = -0.332\n",
    "\n",
    "\n",
    "train = Train[ (Train['x_tracker']>(x_low) ) & (Train['x_tracker']<(x_up)) \\\n",
    "              & (Train['y_tracker']>(y_low)) & (Train['y_tracker']<(y_up)) ]\n",
    "\n",
    "test = Test[ (Test['x_tracker']>x_low) & (Test['x_tracker']<x_up) & (Test['y_tracker']>y_low) \\\n",
    "              & (Test['y_tracker']<y_up) ]\n",
    "\n",
    "train['x_tracker'] += 5.0\n",
    "test ['x_tracker'] += 5.0\n",
    "train['y_tracker'] += 1.0\n",
    "test ['y_tracker'] += 1.0\n",
    "\n",
    "train = train[ (train['pmax6']>train['pmax1']) & (train['pmax6']>train['pmax2']) & (train['pmax6']>train['pmax3']) \\\n",
    "        & (train['pmax6']>train['pmax4']) & (train['pmax6']>train['pmax5']) & (train['pmax6']>train['pmax7']) \\\n",
    "        & (train['pmax6']>train['pmax8']) & (train['pmax6']>train['pmax9']) & (train['pmax6']>train['pmax11']) \\\n",
    "        & (train['pmax6']>train['pmax12']) & (train['pmax6']>train['pmax13']) & (train['pmax6']>train['pmax14']) ]\n",
    "\n",
    "test = test[ (test['pmax6']>test['pmax1']) & (test['pmax6']>test['pmax2']) & (test['pmax6']>test['pmax3']) \\\n",
    "        & (test['pmax6']>test['pmax4']) & (test['pmax6']>test['pmax5']) & (test['pmax6']>test['pmax7']) \\\n",
    "        & (test['pmax6']>test['pmax8']) & (test['pmax6']>test['pmax9']) & (test['pmax6']>test['pmax11']) \\\n",
    "        & (test['pmax6']>test['pmax12']) & (test['pmax6']>test['pmax13']) & (test['pmax6']>test['pmax14']) ]\n",
    "\n",
    "train = train[ (train['pmax6']>=5) ]\n",
    "test = test[ (test['pmax6']>=5) ]\n",
    "\n",
    "print(\"Total training events = \", len(train), len(test))\n",
    "\n",
    "y_train = train.iloc[:,:2]\n",
    "x_train = train.drop(['x_tracker','y_tracker','x_rsd','y_rsd','t','t_reco','pmax0','negpmax0','tmax0'],axis=1)\n",
    "x_train = x_train.drop(['pmax1','pmax2','pmax12','pmax13','negpmax1','negpmax2','negpmax12','negpmax13'],axis=1)\n",
    "x_train = x_train.iloc[:,:18]\n",
    "#x_train = x_train.iloc[:,:26]\n",
    "#x_train['diff3'] = x_train['pmax3']+x_train['negpmax3']\n",
    "\n",
    "\n",
    "y_test = test.iloc[:,:2]\n",
    "x_test = test.drop(['x_tracker','y_tracker','x_rsd','y_rsd','t','t_reco','pmax0','negpmax0','tmax0'],axis=1)\n",
    "x_test = x_test.drop(['pmax1','pmax2','pmax12','pmax13','negpmax1','negpmax2','negpmax12','negpmax13'],axis=1)\n",
    "x_test = x_test.iloc[:,:18]\n",
    "#x_test = x_test.iloc[:,:26]\n",
    "#x_test['diff3'] = x_test['pmax3']+x_test['negpmax3']\n",
    "\n",
    "n_var     = len(x_test.columns)\n",
    "n_outputs = len(y_test.columns)\n",
    "print(x_test.columns, n_var)\n",
    "print(y_test.columns, n_outputs)\n",
    "\n",
    "y_train = torch.tensor(y_train.values)\n",
    "x_train = torch.tensor(x_train.values)\n",
    "\n",
    "y_test = torch.tensor(y_test.values)\n",
    "x_test = torch.tensor(x_test.values)\n",
    "\n",
    "train_tensor = torch.utils.data.TensorDataset(x_train, y_train) \n",
    "test_tensor  = torch.utils.data.TensorDataset(x_test,  y_test) \n",
    "\n",
    "loader_train = udata.DataLoader(dataset=train_tensor, batch_size=batch_size, num_workers=0, shuffle=True)\n",
    "loader_test  = udata.DataLoader(dataset=test_tensor,  batch_size=batch_size, num_workers=0, shuffle=False)"
   ]
  },
  {
   "cell_type": "code",
   "execution_count": 4,
   "id": "da73b87b",
   "metadata": {},
   "outputs": [],
   "source": [
    "# Model\n",
    "class DNN(nn.Module):\n",
    "    def __init__(self, n_var, n_layers, n_nodes, n_outputs, drop_out_p):\n",
    "        super(DNN, self).__init__()\n",
    "        layers = []\n",
    "        layers.append(nn.Linear(n_var, n_nodes))\n",
    "        layers.append(nn.ReLU())\n",
    "\n",
    "        for n in list(n_nodes for x in range(n_layers)):\n",
    "            layers.append(nn.Linear(n, n))\n",
    "            layers.append(nn.ReLU())\n",
    "\n",
    "        layers.append(nn.Dropout(p=drop_out_p))\n",
    "        layers.append(nn.Linear(n_nodes, n_outputs))\n",
    "\n",
    "        self.dnn = nn.Sequential(*layers)\n",
    "        self.double()\n",
    "\n",
    "    def forward(self, x):\n",
    "        return self.dnn(x)\n",
    "\n",
    "model = DNN(n_var=n_var, n_layers=n_layers, n_nodes=n_nodes, n_outputs=n_outputs, drop_out_p=drop_out_p)\n",
    "\n",
    "# Loss function\n",
    "criterion = nn.MSELoss()\n",
    "\n",
    "# Optimizer\n",
    "optimizer = optim.Adam(model.parameters(), lr = learning_rate, weight_decay=1e-3)\n",
    "#scheduler = optim.lr_scheduler.ExponentialLR(optimizer=optimizer, gamma=0.95, last_epoch=-1, verbose=verbose)\n"
   ]
  },
  {
   "cell_type": "code",
   "execution_count": 5,
   "id": "f031c74b",
   "metadata": {},
   "outputs": [
    {
     "name": "stdout",
     "output_type": "stream",
     "text": [
      "Finished\n",
      "Final loss train: 0.17308783187465537\n",
      "Final loss test: 0.17007087986081532\n"
     ]
    }
   ],
   "source": [
    "# training and validation\n",
    "training_losses_total = np.zeros(epochs)\n",
    "validation_losses_total = np.zeros(epochs)\n",
    "for epoch in range(epochs):\n",
    "    if verbose: print(\"Beginning epoch \" + str(epoch))\n",
    "    # training\n",
    "    train_loss_total = 0\n",
    "    for i, data in enumerate(loader_train):\n",
    "        x = data[0]\n",
    "        y = data[1]\n",
    "        model.train()\n",
    "        model.zero_grad()\n",
    "        optimizer.zero_grad()\n",
    "        output = model(x)\n",
    "        batch_loss_total = criterion(output, y)        \n",
    "        batch_loss_total.backward()\n",
    "        optimizer.step()\n",
    "        model.eval()\n",
    "        train_loss_total += batch_loss_total.item()\n",
    "    train_loss_total /= len(loader_train)\n",
    "    training_losses_total[epoch] = train_loss_total\n",
    "    if np.isnan(train_loss_total):\n",
    "        print(\"nan in training\")\n",
    "        break\n",
    "    if verbose: print(\"t_total: \"+ str(train_loss_total))\n",
    "\n",
    "    # validation\n",
    "    val_loss_total = 0\n",
    "    for i, data in enumerate(loader_test):\n",
    "        x = data[0]\n",
    "        y = data[1]\n",
    "        output = model(x)\n",
    "        batch_loss_total = criterion(output, y)        \n",
    "        val_loss_total += batch_loss_total.item()\n",
    "    val_loss_total /= len(loader_test)\n",
    "    #scheduler.step()\n",
    "    validation_losses_total[epoch] = val_loss_total\n",
    "    if np.isnan(val_loss_total):\n",
    "        print(\"nan in val\")\n",
    "        break\n",
    "    if verbose: print(\"v_total: \"+ str(val_loss_total))\n",
    "    \n",
    "    # save the model\n",
    "    model.eval()\n",
    "    modelLocation = \"{}/net_{}.pth\".format(\".\",epoch)\n",
    "    torch.save(model.state_dict(), modelLocation)\n",
    "    \n",
    "print(\"Finished\")\n",
    "print(\"Final loss train:\", training_losses_total[-1])\n",
    "print(\"Final loss test:\",  validation_losses_total[-1])\n"
   ]
  },
  {
   "cell_type": "code",
   "execution_count": 6,
   "id": "f0e93b01",
   "metadata": {},
   "outputs": [
    {
     "name": "stdout",
     "output_type": "stream",
     "text": [
      "Making basic validation plots\n"
     ]
    },
    {
     "data": {
      "image/png": "[encoded data removed]",
      "text/plain": [
       "<Figure size 432x288 with 1 Axes>"
      ]
     },
     "metadata": {
      "needs_background": "light"
     },
     "output_type": "display_data"
    }
   ],
   "source": [
    "# plot loss/epoch for training and validation sets\n",
    "print(\"Making basic validation plots\")\n",
    "training_total = plt.plot(training_losses_total, label='training_total')\n",
    "validation_total = plt.plot(validation_losses_total, label='validation_total')\n",
    "plt.xlabel(\"epoch\")\n",
    "plt.ylabel(\"Loss\")\n",
    "plt.legend()\n",
    "plt.savefig(\"loss_plot.png\")"
   ]
  },
  {
   "cell_type": "code",
   "execution_count": 7,
   "id": "ced43f85",
   "metadata": {},
   "outputs": [
    {
     "data": {
      "text/plain": [
       "<matplotlib.collections.PathCollection at 0x7f3f37adab80>"
      ]
     },
     "execution_count": 7,
     "metadata": {},
     "output_type": "execute_result"
    },
    {
     "data": {
      "image/png": "[encoded data removed]",
      "text/plain": [
       "<Figure size 720x720 with 1 Axes>"
      ]
     },
     "metadata": {
      "needs_background": "light"
     },
     "output_type": "display_data"
    }
   ],
   "source": [
    "plt.figure(figsize=(10,10))\n",
    "plt.xlim(-2.0,2.0)\n",
    "plt.ylim(-2.0,2.0)\n",
    "plt.xlabel(\"x [mm]\")\n",
    "plt.ylabel(\"y [mm]\")\n",
    "plt.scatter(y_test[:,0], y_test[:,1], alpha=.5)\n",
    "#plt.scatter(y_train[:,0], y_train[:,1], alpha=.5)\n",
    "model.eval()\n",
    "plt.scatter(model(x_test).detach().numpy()[:,0], model(x_test).detach().numpy()[:,1], alpha=.5)\n",
    "#plt.scatter(model(x_train).detach().numpy()[:,0], model(x_train).detach().numpy()[:,1], alpha=.5)\n",
    "#plt.savefig('/home/federico/Scrivania/croci450_2d.png')"
   ]
  },
  {
   "cell_type": "code",
   "execution_count": 8,
   "id": "321bab6e",
   "metadata": {},
   "outputs": [
    {
     "data": {
      "text/plain": [
       "Text(0, 0.5, 'y_rsd [mm]')"
      ]
     },
     "execution_count": 8,
     "metadata": {},
     "output_type": "execute_result"
    },
    {
     "data": {
      "image/png": "[encoded data removed]",
      "text/plain": [
       "<Figure size 720x720 with 1 Axes>"
      ]
     },
     "metadata": {
      "needs_background": "light"
     },
     "output_type": "display_data"
    },
    {
     "data": {
      "image/png": "[encoded data removed]",
      "text/plain": [
       "<Figure size 720x720 with 1 Axes>"
      ]
     },
     "metadata": {
      "needs_background": "light"
     },
     "output_type": "display_data"
    }
   ],
   "source": [
    "plt.figure(figsize=(10,10))\n",
    "plt.scatter(y_test[:,0],model(x_test).detach().numpy()[:,0],alpha=.5)\n",
    "plt.xlim(-1.0,1.0)\n",
    "plt.ylim(-1.0,1.0)\n",
    "plt.xlabel(\"x_tracker [mm]\",fontsize=18)\n",
    "plt.ylabel(\"x_rsd [mm]\",fontsize=18)\n",
    "#plt.savefig('/home/federico/Scrivania/croci450_correlation.png')\n",
    "\n",
    "plt.figure(figsize=(10,10))\n",
    "plt.scatter(y_test[:,1],model(x_test).detach().numpy()[:,1],alpha=.5)\n",
    "plt.xlim(-1.0,1.0)\n",
    "plt.ylim(-1.0,1.0)\n",
    "plt.xlabel(\"y_tracker [mm]\",fontsize=18)\n",
    "plt.ylabel(\"y_rsd [mm]\",fontsize=18)"
   ]
  },
  {
   "cell_type": "code",
   "execution_count": null,
   "id": "94a0c82d",
   "metadata": {},
   "outputs": [],
   "source": []
  }
 ],
 "metadata": {
  "kernelspec": {
   "display_name": "Python 3 (ipykernel)",
   "language": "python",
   "name": "python3"
  },
  "language_info": {
   "codemirror_mode": {
    "name": "ipython",
    "version": 3
   },
   "file_extension": ".py",
   "mimetype": "text/x-python",
   "name": "python",
   "nbconvert_exporter": "python",
   "pygments_lexer": "ipython3",
   "version": "3.8.6"
  }
 },
 "nbformat": 4,
 "nbformat_minor": 5
}
